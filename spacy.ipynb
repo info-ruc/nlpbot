{
 "cells": [
  {
   "cell_type": "markdown",
   "metadata": {},
   "source": [
    "# SpaCy Tutorial"
   ]
  },
  {
   "cell_type": "markdown",
   "metadata": {},
   "source": [
    "## Install spaCy"
   ]
  },
  {
   "cell_type": "code",
   "execution_count": 3,
   "metadata": {},
   "outputs": [],
   "source": [
    "# # Install spaCy\n",
    "# !pip install spacy"
   ]
  },
  {
   "cell_type": "code",
   "execution_count": 4,
   "metadata": {},
   "outputs": [],
   "source": [
    "import spacy"
   ]
  },
  {
   "cell_type": "markdown",
   "metadata": {},
   "source": [
    "## Download pretrained model"
   ]
  },
  {
   "cell_type": "markdown",
   "metadata": {},
   "source": [
    "SpaCy supports multiple languages, such as English, German, French, Spanish, Portuguese, Italian, Dutch, Greek, Japanese, etc.  \n",
    "\n",
    "Here, we will use a small-sized pretrained English model. A large model is slower but more accurate while a small model is faster but less accurate and has less features (e.g. no word vectors).\n",
    "\n",
    "The model file contains weights, vocabulary, and model pipeline meta information."
   ]
  },
  {
   "cell_type": "code",
   "execution_count": 5,
   "metadata": {},
   "outputs": [],
   "source": [
    "# # Download\n",
    "# !python -m spacy download en_core_web_sm\n",
    "# # Restart kernel after the model is downloaded"
   ]
  },
  {
   "cell_type": "markdown",
   "metadata": {},
   "source": [
    "## Load model"
   ]
  },
  {
   "cell_type": "code",
   "execution_count": 6,
   "metadata": {},
   "outputs": [],
   "source": [
    "# Create an nlp object\n",
    "nlp = spacy.load(\"en_core_web_sm\")"
   ]
  },
  {
   "cell_type": "code",
   "execution_count": 7,
   "metadata": {},
   "outputs": [],
   "source": [
    "# Example document\n",
    "document = \"\"\"Hey, I'm Yuibi. I work very hard at XYZ, Inc. as a data scientist. \\\n",
    "It's located in San Antonio, TX, which is the best city! 😊 \\\n",
    "You can buy 3 tacos for $2 as of December 13th, 2019. lol\"\"\""
   ]
  },
  {
   "cell_type": "code",
   "execution_count": 8,
   "metadata": {},
   "outputs": [],
   "source": [
    "# Created by processing a string of text with the nlp object\n",
    "doc = nlp(document)"
   ]
  },
  {
   "cell_type": "markdown",
   "metadata": {},
   "source": [
    "## Tokenization\n",
    "Tokenization chops sentence(s) into pieces called tokens. For English, it normally uses whitespace as a separator with special treatments for punctuations, emoji. etc. SpaCy allows customization of most of its features (e.g. add infix \"-\" as a seperator for tokenization).  \n",
    "\n",
    "![token](img/token.png)  \n",
    "\n",
    "**Advanced:** Some languages do not use whitespaces to separate words. In those cases, do either\n",
    "1. Segment text into morphemes before tokenization.  \n",
    "2. Use byte-pair-encoding (BPE) to create sub-word units.  \n",
    "BPE is also effective for English as shown in Google's BERT.\n",
    "\n",
    "**Hiererarcy:** Corpus > document > sentence > word > sub-word > character > subcharacter > stroke  \n",
    "Tokens are normally on word, sub-word, or character-level for English."
   ]
  },
  {
   "cell_type": "code",
   "execution_count": 9,
   "metadata": {
    "tags": []
   },
   "outputs": [
    {
     "output_type": "stream",
     "name": "stdout",
     "text": "1 Hey\n2 ,\n3 I\n4 'm\n5 Yuibi\n6 .\n7 I\n8 work\n9 very\n10 hard\n11 at\n12 XYZ\n13 ,\n14 Inc.\n15 as\n16 a\n17 data\n18 scientist\n19 .\n20 It\n21 's\n22 located\n23 in\n24 San\n25 Antonio\n26 ,\n27 TX\n28 ,\n29 which\n30 is\n31 the\n32 best\n33 city\n34 !\n35 😊\n36 You\n37 can\n38 buy\n39 3\n40 tacos\n41 for\n42 $\n43 2\n44 as\n45 of\n46 December\n47 13th\n48 ,\n49 2019\n50 .\n51 lol\n"
    }
   ],
   "source": [
    "# For each token, print its token number and token text \n",
    "i = 0\n",
    "for token in doc:\n",
    "    i += 1\n",
    "    print (f\"{i} {token.text}\")"
   ]
  },
  {
   "cell_type": "markdown",
   "metadata": {},
   "source": [
    "## Stop Words\n",
    "Stop words are common words, which are often not needed for downstream tasks like word frequency analysis, topic modeling, count vectorizer (to reduce features for, say, bag-of-word text classifier), etc.  \n",
    "\n",
    "[Some AI researchers](https://twitter.com/deliprao/status/1068555626299584512) argue that stop word removal is detrimental for deep learning models as the removal can potentially change the meanings of documents (e.g. negation).\n",
    "\n",
    "Stop word list can be customized."
   ]
  },
  {
   "cell_type": "code",
   "execution_count": 10,
   "metadata": {},
   "outputs": [
    {
     "output_type": "execute_result",
     "data": {
      "text/plain": "326"
     },
     "metadata": {},
     "execution_count": 10
    }
   ],
   "source": [
    "# By default, spaCy contains a few hundred stop words for English \n",
    "spacy_stop_words = spacy.lang.en.stop_words.STOP_WORDS\n",
    "len(spacy_stop_words)"
   ]
  },
  {
   "cell_type": "code",
   "execution_count": 11,
   "metadata": {},
   "outputs": [
    {
     "output_type": "execute_result",
     "data": {
      "text/plain": "[\"'ll\",\n 'make',\n 'again',\n 'am',\n 'can',\n 'becoming',\n 'his',\n 'take',\n 'more',\n 'wherever',\n 'you',\n 'him',\n 'still',\n 'otherwise',\n 'go',\n 'the',\n 'quite',\n 'ca',\n 'four',\n 'we',\n \"'ve\",\n 'even',\n 'further',\n 'mostly',\n '’ll',\n 'although',\n 'when',\n 'upon',\n 'enough',\n 'as']"
     },
     "metadata": {},
     "execution_count": 11
    }
   ],
   "source": [
    "# Print 30 stop words\n",
    "list(spacy_stop_words)[:30]"
   ]
  },
  {
   "cell_type": "markdown",
   "metadata": {},
   "source": [
    "## Lemmatization  \n",
    "Lemmatization converts a word into its inflected form (lemma) while still ensuring that the reduced form (lemma) belongs to the language, which might not be the case for Stemming. See the table below for an example.  \n",
    "\n",
    "Lemmatization depends on part-of-speech (**POS**) tagging, and is rule-based (for now).  \n",
    "\n",
    "As with stop words, lemmatization can help downstream tasks by normalizing text, but for deep learning tasks, it is almost always skipped.  \n",
    "\n",
    "Stemming is not available in spaCy.  \n",
    "\n",
    "Word | Stem | Lemma\n",
    "--- | --- | ---\n",
    "Studies | Studi | Study\n",
    "Studying | Study | Study"
   ]
  },
  {
   "cell_type": "code",
   "execution_count": 12,
   "metadata": {
    "tags": []
   },
   "outputs": [
    {
     "output_type": "stream",
     "name": "stdout",
     "text": "1 Hey \t\t hey\n2 , \t\t ,\n3 I \t\t -PRON-\n4 'm \t\t be\n5 Yuibi \t\t Yuibi\n6 . \t\t .\n7 I \t\t -PRON-\n8 work \t\t work\n9 very \t\t very\n10 hard \t\t hard\n11 at \t\t at\n12 XYZ \t\t XYZ\n13 , \t\t ,\n14 Inc. \t\t Inc.\n15 as \t\t as\n16 a \t\t a\n17 data \t\t data\n18 scientist \t\t scientist\n19 . \t\t .\n20 It \t\t -PRON-\n21 's \t\t be\n22 located \t\t locate\n23 in \t\t in\n24 San \t\t San\n25 Antonio \t\t Antonio\n26 , \t\t ,\n27 TX \t\t TX\n28 , \t\t ,\n29 which \t\t which\n30 is \t\t be\n31 the \t\t the\n32 best \t\t good\n33 city \t\t city\n34 ! \t\t !\n35 😊 \t\t 😊\n36 You \t\t -PRON-\n37 can \t\t can\n38 buy \t\t buy\n39 3 \t\t 3\n40 tacos \t\t taco\n41 for \t\t for\n42 $ \t\t $\n43 2 \t\t 2\n44 as \t\t as\n45 of \t\t of\n46 December \t\t December\n47 13th \t\t 13th\n48 , \t\t ,\n49 2019 \t\t 2019\n50 . \t\t .\n51 lol \t\t lol\n"
    }
   ],
   "source": [
    "# For each token, print its token number, token text, and lemma \n",
    "i = 0\n",
    "for token in doc:\n",
    "    i += 1\n",
    "    print (f\"{i} {token.text} \\t\\t {token.lemma_}\")"
   ]
  },
  {
   "cell_type": "markdown",
   "metadata": {},
   "source": [
    "## Sentence Segmentation  \n",
    "SpaCy can split a document into individual sentences by predicting sentence boundaries. As with most features in spaCy, this can be customized."
   ]
  },
  {
   "cell_type": "code",
   "execution_count": 13,
   "metadata": {
    "tags": []
   },
   "outputs": [
    {
     "output_type": "stream",
     "name": "stdout",
     "text": "1 Hey, I'm Yuibi.\n2 I work very hard at XYZ, Inc. as a data scientist.\n3 It's located in San Antonio, TX, which is the best city!\n4 😊\n5 You can buy 3 tacos for $2 as of December 13th, 2019.\n6 lol\n"
    }
   ],
   "source": [
    "# for each sentence, print sentence number and text\n",
    "i = 0\n",
    "for sentence in doc.sents:\n",
    "    i += 1\n",
    "    print (f\"{i} {sentence}\")"
   ]
  },
  {
   "cell_type": "markdown",
   "metadata": {},
   "source": [
    "## Statistical Models  \n",
    "SpaCy comes with 3 deep neural network (DNN) based models:\n",
    "1. Part-of-speech (**POS**) tagger\n",
    "2. Named entity recognizer (**NER**)\n",
    "3. Syntactic dependency parser\n",
    "\n",
    "SpaCy used supervised Seq2Seq convolutional neural network (CNN) with sub-word embedding, residual connections, and layer normalization in a multi-task fashion to train those models. These models can be retrained if you have your own labeled data."
   ]
  },
  {
   "cell_type": "markdown",
   "metadata": {},
   "source": [
    "### Part-of-speech (**POS**)  \n",
    "POS indicates which category a word is assigned to in accordance with its syntactic functions.  \n",
    "\n",
    "Examples:\n",
    "- Noun\n",
    "- Pronoun\n",
    "- Proper noun\n",
    "- Adjective\n",
    "- Verb\n",
    "- Adverb\n",
    "- Adposition\n",
    "- Auxiliary\n",
    "- Punctuation\n",
    "- Determiner \n",
    "- Subordinating conjunction\n",
    "- Interjection"
   ]
  },
  {
   "cell_type": "code",
   "execution_count": 14,
   "metadata": {
    "tags": []
   },
   "outputs": [
    {
     "output_type": "stream",
     "name": "stdout",
     "text": "1 Hey \t\t INTJ\n2 , \t\t PUNCT\n3 I \t\t PRON\n4 'm \t\t AUX\n5 Yuibi \t\t PROPN\n6 . \t\t PUNCT\n7 I \t\t PRON\n8 work \t\t VERB\n9 very \t\t ADV\n10 hard \t\t ADV\n11 at \t\t ADP\n12 XYZ \t\t PROPN\n13 , \t\t PUNCT\n14 Inc. \t\t PROPN\n15 as \t\t SCONJ\n16 a \t\t DET\n17 data \t\t NOUN\n18 scientist \t\t NOUN\n19 . \t\t PUNCT\n20 It \t\t PRON\n21 's \t\t AUX\n22 located \t\t VERB\n23 in \t\t ADP\n24 San \t\t PROPN\n25 Antonio \t\t PROPN\n26 , \t\t PUNCT\n27 TX \t\t PROPN\n28 , \t\t PUNCT\n29 which \t\t DET\n30 is \t\t AUX\n31 the \t\t DET\n32 best \t\t ADJ\n33 city \t\t NOUN\n34 ! \t\t PUNCT\n35 😊 \t\t PROPN\n36 You \t\t PRON\n37 can \t\t VERB\n38 buy \t\t VERB\n39 3 \t\t NUM\n40 tacos \t\t NOUN\n41 for \t\t ADP\n42 $ \t\t SYM\n43 2 \t\t NUM\n44 as \t\t SCONJ\n45 of \t\t ADP\n46 December \t\t PROPN\n47 13th \t\t NOUN\n48 , \t\t PUNCT\n49 2019 \t\t NUM\n50 . \t\t PUNCT\n51 lol \t\t PROPN\n"
    }
   ],
   "source": [
    "# For each token, print its token number, token text, and POS \n",
    "i = 0\n",
    "for token in doc:\n",
    "    i += 1\n",
    "    print (f\"{i} {token.text} \\t\\t {token.pos_}\")"
   ]
  },
  {
   "cell_type": "markdown",
   "metadata": {},
   "source": [
    "### Named Entity Recognizer (**NER**)  \n",
    "NER locates named entities and classifies them into pre-defined categories, such as:  \n",
    "- PERSON\tPeople, including fictional.\n",
    "- FAC\tBuildings, airports, highways, bridges, etc.\n",
    "- ORG\tCompanies, agencies, institutions, etc.\n",
    "- GPE\tCountries, cities, states.\n",
    "- PRODUCT\tObjects, vehicles, foods, etc. (Not services.)\n",
    "- EVENT\tNamed hurricanes, battles, wars, sports events, etc.\n",
    "- DATE\tAbsolute or relative dates or periods.\n",
    "- TIME\tTimes smaller than a day.\n",
    "- MONEY\tMonetary values, including unit.\n",
    "- QUANTITY\tMeasurements, as of weight or distance.\n",
    "- ORDINAL\t“first”, “second”, etc.\n",
    "- CARDINAL\tNumerals that do not fall under another type.  "
   ]
  },
  {
   "cell_type": "code",
   "execution_count": 15,
   "metadata": {
    "tags": []
   },
   "outputs": [
    {
     "output_type": "stream",
     "name": "stdout",
     "text": "1 Yuibi \t\t GPE\n2 XYZ, Inc. \t\t ORG\n3 San Antonio \t\t GPE\n4 TX \t\t ORG\n5 3 tacos \t\t MONEY\n6 2 \t\t MONEY\n7 December 13th, 2019 \t\t DATE\n"
    }
   ],
   "source": [
    "# For each extracted token, print its token number, token text, and named entities \n",
    "i = 0\n",
    "for token in doc.ents:\n",
    "    i += 1\n",
    "    print (f\"{i} {token.text} \\t\\t {token.label_}\")"
   ]
  },
  {
   "cell_type": "code",
   "execution_count": 16,
   "metadata": {},
   "outputs": [
    {
     "output_type": "display_data",
     "data": {
      "text/plain": "<IPython.core.display.HTML object>",
      "text/html": "<span class=\"tex2jax_ignore\"><div class=\"entities\" style=\"line-height: 2.5; direction: ltr\">Hey, I'm \n<mark class=\"entity\" style=\"background: #feca74; padding: 0.45em 0.6em; margin: 0 0.25em; line-height: 1; border-radius: 0.35em;\">\n    Yuibi\n    <span style=\"font-size: 0.8em; font-weight: bold; line-height: 1; border-radius: 0.35em; text-transform: uppercase; vertical-align: middle; margin-left: 0.5rem\">GPE</span>\n</mark>\n. I work very hard at \n<mark class=\"entity\" style=\"background: #7aecec; padding: 0.45em 0.6em; margin: 0 0.25em; line-height: 1; border-radius: 0.35em;\">\n    XYZ, Inc.\n    <span style=\"font-size: 0.8em; font-weight: bold; line-height: 1; border-radius: 0.35em; text-transform: uppercase; vertical-align: middle; margin-left: 0.5rem\">ORG</span>\n</mark>\n as a data scientist. It's located in \n<mark class=\"entity\" style=\"background: #feca74; padding: 0.45em 0.6em; margin: 0 0.25em; line-height: 1; border-radius: 0.35em;\">\n    San Antonio\n    <span style=\"font-size: 0.8em; font-weight: bold; line-height: 1; border-radius: 0.35em; text-transform: uppercase; vertical-align: middle; margin-left: 0.5rem\">GPE</span>\n</mark>\n, \n<mark class=\"entity\" style=\"background: #7aecec; padding: 0.45em 0.6em; margin: 0 0.25em; line-height: 1; border-radius: 0.35em;\">\n    TX\n    <span style=\"font-size: 0.8em; font-weight: bold; line-height: 1; border-radius: 0.35em; text-transform: uppercase; vertical-align: middle; margin-left: 0.5rem\">ORG</span>\n</mark>\n, which is the best city! 😊 You can buy \n<mark class=\"entity\" style=\"background: #e4e7d2; padding: 0.45em 0.6em; margin: 0 0.25em; line-height: 1; border-radius: 0.35em;\">\n    3 tacos\n    <span style=\"font-size: 0.8em; font-weight: bold; line-height: 1; border-radius: 0.35em; text-transform: uppercase; vertical-align: middle; margin-left: 0.5rem\">MONEY</span>\n</mark>\n for $\n<mark class=\"entity\" style=\"background: #e4e7d2; padding: 0.45em 0.6em; margin: 0 0.25em; line-height: 1; border-radius: 0.35em;\">\n    2\n    <span style=\"font-size: 0.8em; font-weight: bold; line-height: 1; border-radius: 0.35em; text-transform: uppercase; vertical-align: middle; margin-left: 0.5rem\">MONEY</span>\n</mark>\n as of \n<mark class=\"entity\" style=\"background: #bfe1d9; padding: 0.45em 0.6em; margin: 0 0.25em; line-height: 1; border-radius: 0.35em;\">\n    December 13th, 2019\n    <span style=\"font-size: 0.8em; font-weight: bold; line-height: 1; border-radius: 0.35em; text-transform: uppercase; vertical-align: middle; margin-left: 0.5rem\">DATE</span>\n</mark>\n. lol</div></span>"
     },
     "metadata": {}
    }
   ],
   "source": [
    "# Visualize NER\n",
    "spacy.displacy.render(doc, style='ent')"
   ]
  },
  {
   "cell_type": "markdown",
   "metadata": {},
   "source": [
    "### Syntactic Dependency Parser  \n",
    "This process extracts the dependency parse of a sentence to represent its grammatical structure. The extracted structured is represented as directed graph, and it can be used as features in some deep learning algorithms (Tree-Recursive Neural Network, Graph Neural Network, etc)."
   ]
  },
  {
   "cell_type": "code",
   "execution_count": 17,
   "metadata": {
    "tags": []
   },
   "outputs": [
    {
     "output_type": "stream",
     "name": "stdout",
     "text": "1 Hey \t\t intj \t\t 'm\n2 , \t\t punct \t\t 'm\n3 I \t\t nsubj \t\t 'm\n4 'm \t\t ROOT \t\t 'm\n5 Yuibi \t\t attr \t\t 'm\n6 . \t\t punct \t\t 'm\n7 I \t\t nsubj \t\t work\n8 work \t\t ROOT \t\t work\n9 very \t\t advmod \t\t hard\n10 hard \t\t advmod \t\t work\n11 at \t\t prep \t\t work\n12 XYZ \t\t pobj \t\t at\n13 , \t\t punct \t\t XYZ\n14 Inc. \t\t appos \t\t XYZ\n15 as \t\t prep \t\t work\n16 a \t\t det \t\t scientist\n17 data \t\t compound \t\t scientist\n18 scientist \t\t pobj \t\t as\n19 . \t\t punct \t\t work\n20 It \t\t nsubjpass \t\t located\n21 's \t\t auxpass \t\t located\n22 located \t\t ROOT \t\t located\n23 in \t\t prep \t\t located\n24 San \t\t compound \t\t Antonio\n25 Antonio \t\t pobj \t\t in\n26 , \t\t punct \t\t Antonio\n27 TX \t\t appos \t\t Antonio\n28 , \t\t punct \t\t Antonio\n29 which \t\t nsubj \t\t is\n30 is \t\t relcl \t\t Antonio\n31 the \t\t det \t\t city\n32 best \t\t amod \t\t city\n33 city \t\t attr \t\t is\n34 ! \t\t punct \t\t located\n35 😊 \t\t ROOT \t\t 😊\n36 You \t\t nsubj \t\t buy\n37 can \t\t aux \t\t buy\n38 buy \t\t ROOT \t\t buy\n39 3 \t\t nummod \t\t tacos\n40 tacos \t\t dobj \t\t buy\n41 for \t\t prep \t\t buy\n42 $ \t\t nmod \t\t 2\n43 2 \t\t pobj \t\t for\n44 as \t\t prep \t\t buy\n45 of \t\t prep \t\t as\n46 December \t\t compound \t\t 13th\n47 13th \t\t pobj \t\t of\n48 , \t\t punct \t\t 13th\n49 2019 \t\t npadvmod \t\t 13th\n50 . \t\t punct \t\t buy\n51 lol \t\t ROOT \t\t lol\n"
    }
   ],
   "source": [
    "# For each token, print its token number, token text, and dependency \n",
    "i = 0\n",
    "for token in doc:\n",
    "    i += 1\n",
    "    print (f\"{i} {token.text} \\t\\t {token.dep_} \\t\\t {token.head.text}\")"
   ]
  },
  {
   "cell_type": "code",
   "execution_count": 18,
   "metadata": {},
   "outputs": [
    {
     "output_type": "display_data",
     "data": {
      "text/plain": "<IPython.core.display.HTML object>",
      "text/html": "<span class=\"tex2jax_ignore\"><svg xmlns=\"http://www.w3.org/2000/svg\" xmlns:xlink=\"http://www.w3.org/1999/xlink\" xml:lang=\"en\" id=\"53e038d7a70e45539dacf71ce6b86cb8-0\" class=\"displacy\" width=\"750\" height=\"312.0\" direction=\"ltr\" style=\"max-width: none; height: 312.0px; color: #000000; background: #ffffff; font-family: Arial; direction: ltr\">\n<text class=\"displacy-token\" fill=\"currentColor\" text-anchor=\"middle\" y=\"222.0\">\n    <tspan class=\"displacy-word\" fill=\"currentColor\" x=\"50\">Hey,</tspan>\n    <tspan class=\"displacy-tag\" dy=\"2em\" fill=\"currentColor\" x=\"50\">INTJ</tspan>\n</text>\n\n<text class=\"displacy-token\" fill=\"currentColor\" text-anchor=\"middle\" y=\"222.0\">\n    <tspan class=\"displacy-word\" fill=\"currentColor\" x=\"225\">I</tspan>\n    <tspan class=\"displacy-tag\" dy=\"2em\" fill=\"currentColor\" x=\"225\">PRON</tspan>\n</text>\n\n<text class=\"displacy-token\" fill=\"currentColor\" text-anchor=\"middle\" y=\"222.0\">\n    <tspan class=\"displacy-word\" fill=\"currentColor\" x=\"400\">'m</tspan>\n    <tspan class=\"displacy-tag\" dy=\"2em\" fill=\"currentColor\" x=\"400\">AUX</tspan>\n</text>\n\n<text class=\"displacy-token\" fill=\"currentColor\" text-anchor=\"middle\" y=\"222.0\">\n    <tspan class=\"displacy-word\" fill=\"currentColor\" x=\"575\">Yuibi.</tspan>\n    <tspan class=\"displacy-tag\" dy=\"2em\" fill=\"currentColor\" x=\"575\">PROPN</tspan>\n</text>\n\n<g class=\"displacy-arrow\">\n    <path class=\"displacy-arc\" id=\"arrow-53e038d7a70e45539dacf71ce6b86cb8-0-0\" stroke-width=\"2px\" d=\"M70,177.0 C70,2.0 400.0,2.0 400.0,177.0\" fill=\"none\" stroke=\"currentColor\"/>\n    <text dy=\"1.25em\" style=\"font-size: 0.8em; letter-spacing: 1px\">\n        <textPath xlink:href=\"#arrow-53e038d7a70e45539dacf71ce6b86cb8-0-0\" class=\"displacy-label\" startOffset=\"50%\" side=\"left\" fill=\"currentColor\" text-anchor=\"middle\">intj</textPath>\n    </text>\n    <path class=\"displacy-arrowhead\" d=\"M70,179.0 L62,167.0 78,167.0\" fill=\"currentColor\"/>\n</g>\n\n<g class=\"displacy-arrow\">\n    <path class=\"displacy-arc\" id=\"arrow-53e038d7a70e45539dacf71ce6b86cb8-0-1\" stroke-width=\"2px\" d=\"M245,177.0 C245,89.5 395.0,89.5 395.0,177.0\" fill=\"none\" stroke=\"currentColor\"/>\n    <text dy=\"1.25em\" style=\"font-size: 0.8em; letter-spacing: 1px\">\n        <textPath xlink:href=\"#arrow-53e038d7a70e45539dacf71ce6b86cb8-0-1\" class=\"displacy-label\" startOffset=\"50%\" side=\"left\" fill=\"currentColor\" text-anchor=\"middle\">nsubj</textPath>\n    </text>\n    <path class=\"displacy-arrowhead\" d=\"M245,179.0 L237,167.0 253,167.0\" fill=\"currentColor\"/>\n</g>\n\n<g class=\"displacy-arrow\">\n    <path class=\"displacy-arc\" id=\"arrow-53e038d7a70e45539dacf71ce6b86cb8-0-2\" stroke-width=\"2px\" d=\"M420,177.0 C420,89.5 570.0,89.5 570.0,177.0\" fill=\"none\" stroke=\"currentColor\"/>\n    <text dy=\"1.25em\" style=\"font-size: 0.8em; letter-spacing: 1px\">\n        <textPath xlink:href=\"#arrow-53e038d7a70e45539dacf71ce6b86cb8-0-2\" class=\"displacy-label\" startOffset=\"50%\" side=\"left\" fill=\"currentColor\" text-anchor=\"middle\">attr</textPath>\n    </text>\n    <path class=\"displacy-arrowhead\" d=\"M570.0,179.0 L578.0,167.0 562.0,167.0\" fill=\"currentColor\"/>\n</g>\n</svg>\n\n<svg xmlns=\"http://www.w3.org/2000/svg\" xmlns:xlink=\"http://www.w3.org/1999/xlink\" xml:lang=\"en\" id=\"53e038d7a70e45539dacf71ce6b86cb8-1\" class=\"displacy\" width=\"1975\" height=\"487.0\" direction=\"ltr\" style=\"max-width: none; height: 487.0px; color: #000000; background: #ffffff; font-family: Arial; direction: ltr\">\n<text class=\"displacy-token\" fill=\"currentColor\" text-anchor=\"middle\" y=\"397.0\">\n    <tspan class=\"displacy-word\" fill=\"currentColor\" x=\"50\">I</tspan>\n    <tspan class=\"displacy-tag\" dy=\"2em\" fill=\"currentColor\" x=\"50\">PRON</tspan>\n</text>\n\n<text class=\"displacy-token\" fill=\"currentColor\" text-anchor=\"middle\" y=\"397.0\">\n    <tspan class=\"displacy-word\" fill=\"currentColor\" x=\"225\">work</tspan>\n    <tspan class=\"displacy-tag\" dy=\"2em\" fill=\"currentColor\" x=\"225\">VERB</tspan>\n</text>\n\n<text class=\"displacy-token\" fill=\"currentColor\" text-anchor=\"middle\" y=\"397.0\">\n    <tspan class=\"displacy-word\" fill=\"currentColor\" x=\"400\">very</tspan>\n    <tspan class=\"displacy-tag\" dy=\"2em\" fill=\"currentColor\" x=\"400\">ADV</tspan>\n</text>\n\n<text class=\"displacy-token\" fill=\"currentColor\" text-anchor=\"middle\" y=\"397.0\">\n    <tspan class=\"displacy-word\" fill=\"currentColor\" x=\"575\">hard</tspan>\n    <tspan class=\"displacy-tag\" dy=\"2em\" fill=\"currentColor\" x=\"575\">ADV</tspan>\n</text>\n\n<text class=\"displacy-token\" fill=\"currentColor\" text-anchor=\"middle\" y=\"397.0\">\n    <tspan class=\"displacy-word\" fill=\"currentColor\" x=\"750\">at</tspan>\n    <tspan class=\"displacy-tag\" dy=\"2em\" fill=\"currentColor\" x=\"750\">ADP</tspan>\n</text>\n\n<text class=\"displacy-token\" fill=\"currentColor\" text-anchor=\"middle\" y=\"397.0\">\n    <tspan class=\"displacy-word\" fill=\"currentColor\" x=\"925\">XYZ,</tspan>\n    <tspan class=\"displacy-tag\" dy=\"2em\" fill=\"currentColor\" x=\"925\">PROPN</tspan>\n</text>\n\n<text class=\"displacy-token\" fill=\"currentColor\" text-anchor=\"middle\" y=\"397.0\">\n    <tspan class=\"displacy-word\" fill=\"currentColor\" x=\"1100\">Inc.</tspan>\n    <tspan class=\"displacy-tag\" dy=\"2em\" fill=\"currentColor\" x=\"1100\">PROPN</tspan>\n</text>\n\n<text class=\"displacy-token\" fill=\"currentColor\" text-anchor=\"middle\" y=\"397.0\">\n    <tspan class=\"displacy-word\" fill=\"currentColor\" x=\"1275\">as</tspan>\n    <tspan class=\"displacy-tag\" dy=\"2em\" fill=\"currentColor\" x=\"1275\">SCONJ</tspan>\n</text>\n\n<text class=\"displacy-token\" fill=\"currentColor\" text-anchor=\"middle\" y=\"397.0\">\n    <tspan class=\"displacy-word\" fill=\"currentColor\" x=\"1450\">a</tspan>\n    <tspan class=\"displacy-tag\" dy=\"2em\" fill=\"currentColor\" x=\"1450\">DET</tspan>\n</text>\n\n<text class=\"displacy-token\" fill=\"currentColor\" text-anchor=\"middle\" y=\"397.0\">\n    <tspan class=\"displacy-word\" fill=\"currentColor\" x=\"1625\">data</tspan>\n    <tspan class=\"displacy-tag\" dy=\"2em\" fill=\"currentColor\" x=\"1625\">NOUN</tspan>\n</text>\n\n<text class=\"displacy-token\" fill=\"currentColor\" text-anchor=\"middle\" y=\"397.0\">\n    <tspan class=\"displacy-word\" fill=\"currentColor\" x=\"1800\">scientist.</tspan>\n    <tspan class=\"displacy-tag\" dy=\"2em\" fill=\"currentColor\" x=\"1800\">NOUN</tspan>\n</text>\n\n<g class=\"displacy-arrow\">\n    <path class=\"displacy-arc\" id=\"arrow-53e038d7a70e45539dacf71ce6b86cb8-1-0\" stroke-width=\"2px\" d=\"M70,352.0 C70,264.5 210.0,264.5 210.0,352.0\" fill=\"none\" stroke=\"currentColor\"/>\n    <text dy=\"1.25em\" style=\"font-size: 0.8em; letter-spacing: 1px\">\n        <textPath xlink:href=\"#arrow-53e038d7a70e45539dacf71ce6b86cb8-1-0\" class=\"displacy-label\" startOffset=\"50%\" side=\"left\" fill=\"currentColor\" text-anchor=\"middle\">nsubj</textPath>\n    </text>\n    <path class=\"displacy-arrowhead\" d=\"M70,354.0 L62,342.0 78,342.0\" fill=\"currentColor\"/>\n</g>\n\n<g class=\"displacy-arrow\">\n    <path class=\"displacy-arc\" id=\"arrow-53e038d7a70e45539dacf71ce6b86cb8-1-1\" stroke-width=\"2px\" d=\"M420,352.0 C420,264.5 560.0,264.5 560.0,352.0\" fill=\"none\" stroke=\"currentColor\"/>\n    <text dy=\"1.25em\" style=\"font-size: 0.8em; letter-spacing: 1px\">\n        <textPath xlink:href=\"#arrow-53e038d7a70e45539dacf71ce6b86cb8-1-1\" class=\"displacy-label\" startOffset=\"50%\" side=\"left\" fill=\"currentColor\" text-anchor=\"middle\">advmod</textPath>\n    </text>\n    <path class=\"displacy-arrowhead\" d=\"M420,354.0 L412,342.0 428,342.0\" fill=\"currentColor\"/>\n</g>\n\n<g class=\"displacy-arrow\">\n    <path class=\"displacy-arc\" id=\"arrow-53e038d7a70e45539dacf71ce6b86cb8-1-2\" stroke-width=\"2px\" d=\"M245,352.0 C245,177.0 565.0,177.0 565.0,352.0\" fill=\"none\" stroke=\"currentColor\"/>\n    <text dy=\"1.25em\" style=\"font-size: 0.8em; letter-spacing: 1px\">\n        <textPath xlink:href=\"#arrow-53e038d7a70e45539dacf71ce6b86cb8-1-2\" class=\"displacy-label\" startOffset=\"50%\" side=\"left\" fill=\"currentColor\" text-anchor=\"middle\">advmod</textPath>\n    </text>\n    <path class=\"displacy-arrowhead\" d=\"M565.0,354.0 L573.0,342.0 557.0,342.0\" fill=\"currentColor\"/>\n</g>\n\n<g class=\"displacy-arrow\">\n    <path class=\"displacy-arc\" id=\"arrow-53e038d7a70e45539dacf71ce6b86cb8-1-3\" stroke-width=\"2px\" d=\"M245,352.0 C245,89.5 745.0,89.5 745.0,352.0\" fill=\"none\" stroke=\"currentColor\"/>\n    <text dy=\"1.25em\" style=\"font-size: 0.8em; letter-spacing: 1px\">\n        <textPath xlink:href=\"#arrow-53e038d7a70e45539dacf71ce6b86cb8-1-3\" class=\"displacy-label\" startOffset=\"50%\" side=\"left\" fill=\"currentColor\" text-anchor=\"middle\">prep</textPath>\n    </text>\n    <path class=\"displacy-arrowhead\" d=\"M745.0,354.0 L753.0,342.0 737.0,342.0\" fill=\"currentColor\"/>\n</g>\n\n<g class=\"displacy-arrow\">\n    <path class=\"displacy-arc\" id=\"arrow-53e038d7a70e45539dacf71ce6b86cb8-1-4\" stroke-width=\"2px\" d=\"M770,352.0 C770,264.5 910.0,264.5 910.0,352.0\" fill=\"none\" stroke=\"currentColor\"/>\n    <text dy=\"1.25em\" style=\"font-size: 0.8em; letter-spacing: 1px\">\n        <textPath xlink:href=\"#arrow-53e038d7a70e45539dacf71ce6b86cb8-1-4\" class=\"displacy-label\" startOffset=\"50%\" side=\"left\" fill=\"currentColor\" text-anchor=\"middle\">pobj</textPath>\n    </text>\n    <path class=\"displacy-arrowhead\" d=\"M910.0,354.0 L918.0,342.0 902.0,342.0\" fill=\"currentColor\"/>\n</g>\n\n<g class=\"displacy-arrow\">\n    <path class=\"displacy-arc\" id=\"arrow-53e038d7a70e45539dacf71ce6b86cb8-1-5\" stroke-width=\"2px\" d=\"M945,352.0 C945,264.5 1085.0,264.5 1085.0,352.0\" fill=\"none\" stroke=\"currentColor\"/>\n    <text dy=\"1.25em\" style=\"font-size: 0.8em; letter-spacing: 1px\">\n        <textPath xlink:href=\"#arrow-53e038d7a70e45539dacf71ce6b86cb8-1-5\" class=\"displacy-label\" startOffset=\"50%\" side=\"left\" fill=\"currentColor\" text-anchor=\"middle\">appos</textPath>\n    </text>\n    <path class=\"displacy-arrowhead\" d=\"M1085.0,354.0 L1093.0,342.0 1077.0,342.0\" fill=\"currentColor\"/>\n</g>\n\n<g class=\"displacy-arrow\">\n    <path class=\"displacy-arc\" id=\"arrow-53e038d7a70e45539dacf71ce6b86cb8-1-6\" stroke-width=\"2px\" d=\"M245,352.0 C245,2.0 1275.0,2.0 1275.0,352.0\" fill=\"none\" stroke=\"currentColor\"/>\n    <text dy=\"1.25em\" style=\"font-size: 0.8em; letter-spacing: 1px\">\n        <textPath xlink:href=\"#arrow-53e038d7a70e45539dacf71ce6b86cb8-1-6\" class=\"displacy-label\" startOffset=\"50%\" side=\"left\" fill=\"currentColor\" text-anchor=\"middle\">prep</textPath>\n    </text>\n    <path class=\"displacy-arrowhead\" d=\"M1275.0,354.0 L1283.0,342.0 1267.0,342.0\" fill=\"currentColor\"/>\n</g>\n\n<g class=\"displacy-arrow\">\n    <path class=\"displacy-arc\" id=\"arrow-53e038d7a70e45539dacf71ce6b86cb8-1-7\" stroke-width=\"2px\" d=\"M1470,352.0 C1470,177.0 1790.0,177.0 1790.0,352.0\" fill=\"none\" stroke=\"currentColor\"/>\n    <text dy=\"1.25em\" style=\"font-size: 0.8em; letter-spacing: 1px\">\n        <textPath xlink:href=\"#arrow-53e038d7a70e45539dacf71ce6b86cb8-1-7\" class=\"displacy-label\" startOffset=\"50%\" side=\"left\" fill=\"currentColor\" text-anchor=\"middle\">det</textPath>\n    </text>\n    <path class=\"displacy-arrowhead\" d=\"M1470,354.0 L1462,342.0 1478,342.0\" fill=\"currentColor\"/>\n</g>\n\n<g class=\"displacy-arrow\">\n    <path class=\"displacy-arc\" id=\"arrow-53e038d7a70e45539dacf71ce6b86cb8-1-8\" stroke-width=\"2px\" d=\"M1645,352.0 C1645,264.5 1785.0,264.5 1785.0,352.0\" fill=\"none\" stroke=\"currentColor\"/>\n    <text dy=\"1.25em\" style=\"font-size: 0.8em; letter-spacing: 1px\">\n        <textPath xlink:href=\"#arrow-53e038d7a70e45539dacf71ce6b86cb8-1-8\" class=\"displacy-label\" startOffset=\"50%\" side=\"left\" fill=\"currentColor\" text-anchor=\"middle\">compound</textPath>\n    </text>\n    <path class=\"displacy-arrowhead\" d=\"M1645,354.0 L1637,342.0 1653,342.0\" fill=\"currentColor\"/>\n</g>\n\n<g class=\"displacy-arrow\">\n    <path class=\"displacy-arc\" id=\"arrow-53e038d7a70e45539dacf71ce6b86cb8-1-9\" stroke-width=\"2px\" d=\"M1295,352.0 C1295,89.5 1795.0,89.5 1795.0,352.0\" fill=\"none\" stroke=\"currentColor\"/>\n    <text dy=\"1.25em\" style=\"font-size: 0.8em; letter-spacing: 1px\">\n        <textPath xlink:href=\"#arrow-53e038d7a70e45539dacf71ce6b86cb8-1-9\" class=\"displacy-label\" startOffset=\"50%\" side=\"left\" fill=\"currentColor\" text-anchor=\"middle\">pobj</textPath>\n    </text>\n    <path class=\"displacy-arrowhead\" d=\"M1795.0,354.0 L1803.0,342.0 1787.0,342.0\" fill=\"currentColor\"/>\n</g>\n</svg>\n\n<svg xmlns=\"http://www.w3.org/2000/svg\" xmlns:xlink=\"http://www.w3.org/1999/xlink\" xml:lang=\"en\" id=\"53e038d7a70e45539dacf71ce6b86cb8-2\" class=\"displacy\" width=\"2150\" height=\"399.5\" direction=\"ltr\" style=\"max-width: none; height: 399.5px; color: #000000; background: #ffffff; font-family: Arial; direction: ltr\">\n<text class=\"displacy-token\" fill=\"currentColor\" text-anchor=\"middle\" y=\"309.5\">\n    <tspan class=\"displacy-word\" fill=\"currentColor\" x=\"50\">It</tspan>\n    <tspan class=\"displacy-tag\" dy=\"2em\" fill=\"currentColor\" x=\"50\">PRON</tspan>\n</text>\n\n<text class=\"displacy-token\" fill=\"currentColor\" text-anchor=\"middle\" y=\"309.5\">\n    <tspan class=\"displacy-word\" fill=\"currentColor\" x=\"225\">'s</tspan>\n    <tspan class=\"displacy-tag\" dy=\"2em\" fill=\"currentColor\" x=\"225\">AUX</tspan>\n</text>\n\n<text class=\"displacy-token\" fill=\"currentColor\" text-anchor=\"middle\" y=\"309.5\">\n    <tspan class=\"displacy-word\" fill=\"currentColor\" x=\"400\">located</tspan>\n    <tspan class=\"displacy-tag\" dy=\"2em\" fill=\"currentColor\" x=\"400\">VERB</tspan>\n</text>\n\n<text class=\"displacy-token\" fill=\"currentColor\" text-anchor=\"middle\" y=\"309.5\">\n    <tspan class=\"displacy-word\" fill=\"currentColor\" x=\"575\">in</tspan>\n    <tspan class=\"displacy-tag\" dy=\"2em\" fill=\"currentColor\" x=\"575\">ADP</tspan>\n</text>\n\n<text class=\"displacy-token\" fill=\"currentColor\" text-anchor=\"middle\" y=\"309.5\">\n    <tspan class=\"displacy-word\" fill=\"currentColor\" x=\"750\">San</tspan>\n    <tspan class=\"displacy-tag\" dy=\"2em\" fill=\"currentColor\" x=\"750\">PROPN</tspan>\n</text>\n\n<text class=\"displacy-token\" fill=\"currentColor\" text-anchor=\"middle\" y=\"309.5\">\n    <tspan class=\"displacy-word\" fill=\"currentColor\" x=\"925\">Antonio,</tspan>\n    <tspan class=\"displacy-tag\" dy=\"2em\" fill=\"currentColor\" x=\"925\">PROPN</tspan>\n</text>\n\n<text class=\"displacy-token\" fill=\"currentColor\" text-anchor=\"middle\" y=\"309.5\">\n    <tspan class=\"displacy-word\" fill=\"currentColor\" x=\"1100\">TX,</tspan>\n    <tspan class=\"displacy-tag\" dy=\"2em\" fill=\"currentColor\" x=\"1100\">PROPN</tspan>\n</text>\n\n<text class=\"displacy-token\" fill=\"currentColor\" text-anchor=\"middle\" y=\"309.5\">\n    <tspan class=\"displacy-word\" fill=\"currentColor\" x=\"1275\">which</tspan>\n    <tspan class=\"displacy-tag\" dy=\"2em\" fill=\"currentColor\" x=\"1275\">DET</tspan>\n</text>\n\n<text class=\"displacy-token\" fill=\"currentColor\" text-anchor=\"middle\" y=\"309.5\">\n    <tspan class=\"displacy-word\" fill=\"currentColor\" x=\"1450\">is</tspan>\n    <tspan class=\"displacy-tag\" dy=\"2em\" fill=\"currentColor\" x=\"1450\">AUX</tspan>\n</text>\n\n<text class=\"displacy-token\" fill=\"currentColor\" text-anchor=\"middle\" y=\"309.5\">\n    <tspan class=\"displacy-word\" fill=\"currentColor\" x=\"1625\">the</tspan>\n    <tspan class=\"displacy-tag\" dy=\"2em\" fill=\"currentColor\" x=\"1625\">DET</tspan>\n</text>\n\n<text class=\"displacy-token\" fill=\"currentColor\" text-anchor=\"middle\" y=\"309.5\">\n    <tspan class=\"displacy-word\" fill=\"currentColor\" x=\"1800\">best</tspan>\n    <tspan class=\"displacy-tag\" dy=\"2em\" fill=\"currentColor\" x=\"1800\">ADJ</tspan>\n</text>\n\n<text class=\"displacy-token\" fill=\"currentColor\" text-anchor=\"middle\" y=\"309.5\">\n    <tspan class=\"displacy-word\" fill=\"currentColor\" x=\"1975\">city!</tspan>\n    <tspan class=\"displacy-tag\" dy=\"2em\" fill=\"currentColor\" x=\"1975\">NOUN</tspan>\n</text>\n\n<g class=\"displacy-arrow\">\n    <path class=\"displacy-arc\" id=\"arrow-53e038d7a70e45539dacf71ce6b86cb8-2-0\" stroke-width=\"2px\" d=\"M70,264.5 C70,89.5 395.0,89.5 395.0,264.5\" fill=\"none\" stroke=\"currentColor\"/>\n    <text dy=\"1.25em\" style=\"font-size: 0.8em; letter-spacing: 1px\">\n        <textPath xlink:href=\"#arrow-53e038d7a70e45539dacf71ce6b86cb8-2-0\" class=\"displacy-label\" startOffset=\"50%\" side=\"left\" fill=\"currentColor\" text-anchor=\"middle\">nsubjpass</textPath>\n    </text>\n    <path class=\"displacy-arrowhead\" d=\"M70,266.5 L62,254.5 78,254.5\" fill=\"currentColor\"/>\n</g>\n\n<g class=\"displacy-arrow\">\n    <path class=\"displacy-arc\" id=\"arrow-53e038d7a70e45539dacf71ce6b86cb8-2-1\" stroke-width=\"2px\" d=\"M245,264.5 C245,177.0 390.0,177.0 390.0,264.5\" fill=\"none\" stroke=\"currentColor\"/>\n    <text dy=\"1.25em\" style=\"font-size: 0.8em; letter-spacing: 1px\">\n        <textPath xlink:href=\"#arrow-53e038d7a70e45539dacf71ce6b86cb8-2-1\" class=\"displacy-label\" startOffset=\"50%\" side=\"left\" fill=\"currentColor\" text-anchor=\"middle\">auxpass</textPath>\n    </text>\n    <path class=\"displacy-arrowhead\" d=\"M245,266.5 L237,254.5 253,254.5\" fill=\"currentColor\"/>\n</g>\n\n<g class=\"displacy-arrow\">\n    <path class=\"displacy-arc\" id=\"arrow-53e038d7a70e45539dacf71ce6b86cb8-2-2\" stroke-width=\"2px\" d=\"M420,264.5 C420,177.0 565.0,177.0 565.0,264.5\" fill=\"none\" stroke=\"currentColor\"/>\n    <text dy=\"1.25em\" style=\"font-size: 0.8em; letter-spacing: 1px\">\n        <textPath xlink:href=\"#arrow-53e038d7a70e45539dacf71ce6b86cb8-2-2\" class=\"displacy-label\" startOffset=\"50%\" side=\"left\" fill=\"currentColor\" text-anchor=\"middle\">prep</textPath>\n    </text>\n    <path class=\"displacy-arrowhead\" d=\"M565.0,266.5 L573.0,254.5 557.0,254.5\" fill=\"currentColor\"/>\n</g>\n\n<g class=\"displacy-arrow\">\n    <path class=\"displacy-arc\" id=\"arrow-53e038d7a70e45539dacf71ce6b86cb8-2-3\" stroke-width=\"2px\" d=\"M770,264.5 C770,177.0 915.0,177.0 915.0,264.5\" fill=\"none\" stroke=\"currentColor\"/>\n    <text dy=\"1.25em\" style=\"font-size: 0.8em; letter-spacing: 1px\">\n        <textPath xlink:href=\"#arrow-53e038d7a70e45539dacf71ce6b86cb8-2-3\" class=\"displacy-label\" startOffset=\"50%\" side=\"left\" fill=\"currentColor\" text-anchor=\"middle\">compound</textPath>\n    </text>\n    <path class=\"displacy-arrowhead\" d=\"M770,266.5 L762,254.5 778,254.5\" fill=\"currentColor\"/>\n</g>\n\n<g class=\"displacy-arrow\">\n    <path class=\"displacy-arc\" id=\"arrow-53e038d7a70e45539dacf71ce6b86cb8-2-4\" stroke-width=\"2px\" d=\"M595,264.5 C595,89.5 920.0,89.5 920.0,264.5\" fill=\"none\" stroke=\"currentColor\"/>\n    <text dy=\"1.25em\" style=\"font-size: 0.8em; letter-spacing: 1px\">\n        <textPath xlink:href=\"#arrow-53e038d7a70e45539dacf71ce6b86cb8-2-4\" class=\"displacy-label\" startOffset=\"50%\" side=\"left\" fill=\"currentColor\" text-anchor=\"middle\">pobj</textPath>\n    </text>\n    <path class=\"displacy-arrowhead\" d=\"M920.0,266.5 L928.0,254.5 912.0,254.5\" fill=\"currentColor\"/>\n</g>\n\n<g class=\"displacy-arrow\">\n    <path class=\"displacy-arc\" id=\"arrow-53e038d7a70e45539dacf71ce6b86cb8-2-5\" stroke-width=\"2px\" d=\"M945,264.5 C945,177.0 1090.0,177.0 1090.0,264.5\" fill=\"none\" stroke=\"currentColor\"/>\n    <text dy=\"1.25em\" style=\"font-size: 0.8em; letter-spacing: 1px\">\n        <textPath xlink:href=\"#arrow-53e038d7a70e45539dacf71ce6b86cb8-2-5\" class=\"displacy-label\" startOffset=\"50%\" side=\"left\" fill=\"currentColor\" text-anchor=\"middle\">appos</textPath>\n    </text>\n    <path class=\"displacy-arrowhead\" d=\"M1090.0,266.5 L1098.0,254.5 1082.0,254.5\" fill=\"currentColor\"/>\n</g>\n\n<g class=\"displacy-arrow\">\n    <path class=\"displacy-arc\" id=\"arrow-53e038d7a70e45539dacf71ce6b86cb8-2-6\" stroke-width=\"2px\" d=\"M1295,264.5 C1295,177.0 1440.0,177.0 1440.0,264.5\" fill=\"none\" stroke=\"currentColor\"/>\n    <text dy=\"1.25em\" style=\"font-size: 0.8em; letter-spacing: 1px\">\n        <textPath xlink:href=\"#arrow-53e038d7a70e45539dacf71ce6b86cb8-2-6\" class=\"displacy-label\" startOffset=\"50%\" side=\"left\" fill=\"currentColor\" text-anchor=\"middle\">nsubj</textPath>\n    </text>\n    <path class=\"displacy-arrowhead\" d=\"M1295,266.5 L1287,254.5 1303,254.5\" fill=\"currentColor\"/>\n</g>\n\n<g class=\"displacy-arrow\">\n    <path class=\"displacy-arc\" id=\"arrow-53e038d7a70e45539dacf71ce6b86cb8-2-7\" stroke-width=\"2px\" d=\"M945,264.5 C945,2.0 1450.0,2.0 1450.0,264.5\" fill=\"none\" stroke=\"currentColor\"/>\n    <text dy=\"1.25em\" style=\"font-size: 0.8em; letter-spacing: 1px\">\n        <textPath xlink:href=\"#arrow-53e038d7a70e45539dacf71ce6b86cb8-2-7\" class=\"displacy-label\" startOffset=\"50%\" side=\"left\" fill=\"currentColor\" text-anchor=\"middle\">relcl</textPath>\n    </text>\n    <path class=\"displacy-arrowhead\" d=\"M1450.0,266.5 L1458.0,254.5 1442.0,254.5\" fill=\"currentColor\"/>\n</g>\n\n<g class=\"displacy-arrow\">\n    <path class=\"displacy-arc\" id=\"arrow-53e038d7a70e45539dacf71ce6b86cb8-2-8\" stroke-width=\"2px\" d=\"M1645,264.5 C1645,89.5 1970.0,89.5 1970.0,264.5\" fill=\"none\" stroke=\"currentColor\"/>\n    <text dy=\"1.25em\" style=\"font-size: 0.8em; letter-spacing: 1px\">\n        <textPath xlink:href=\"#arrow-53e038d7a70e45539dacf71ce6b86cb8-2-8\" class=\"displacy-label\" startOffset=\"50%\" side=\"left\" fill=\"currentColor\" text-anchor=\"middle\">det</textPath>\n    </text>\n    <path class=\"displacy-arrowhead\" d=\"M1645,266.5 L1637,254.5 1653,254.5\" fill=\"currentColor\"/>\n</g>\n\n<g class=\"displacy-arrow\">\n    <path class=\"displacy-arc\" id=\"arrow-53e038d7a70e45539dacf71ce6b86cb8-2-9\" stroke-width=\"2px\" d=\"M1820,264.5 C1820,177.0 1965.0,177.0 1965.0,264.5\" fill=\"none\" stroke=\"currentColor\"/>\n    <text dy=\"1.25em\" style=\"font-size: 0.8em; letter-spacing: 1px\">\n        <textPath xlink:href=\"#arrow-53e038d7a70e45539dacf71ce6b86cb8-2-9\" class=\"displacy-label\" startOffset=\"50%\" side=\"left\" fill=\"currentColor\" text-anchor=\"middle\">amod</textPath>\n    </text>\n    <path class=\"displacy-arrowhead\" d=\"M1820,266.5 L1812,254.5 1828,254.5\" fill=\"currentColor\"/>\n</g>\n\n<g class=\"displacy-arrow\">\n    <path class=\"displacy-arc\" id=\"arrow-53e038d7a70e45539dacf71ce6b86cb8-2-10\" stroke-width=\"2px\" d=\"M1470,264.5 C1470,2.0 1975.0,2.0 1975.0,264.5\" fill=\"none\" stroke=\"currentColor\"/>\n    <text dy=\"1.25em\" style=\"font-size: 0.8em; letter-spacing: 1px\">\n        <textPath xlink:href=\"#arrow-53e038d7a70e45539dacf71ce6b86cb8-2-10\" class=\"displacy-label\" startOffset=\"50%\" side=\"left\" fill=\"currentColor\" text-anchor=\"middle\">attr</textPath>\n    </text>\n    <path class=\"displacy-arrowhead\" d=\"M1975.0,266.5 L1983.0,254.5 1967.0,254.5\" fill=\"currentColor\"/>\n</g>\n</svg>\n\n<svg xmlns=\"http://www.w3.org/2000/svg\" xmlns:xlink=\"http://www.w3.org/1999/xlink\" xml:lang=\"en\" id=\"53e038d7a70e45539dacf71ce6b86cb8-3\" class=\"displacy\" width=\"225\" height=\"137.0\" direction=\"ltr\" style=\"max-width: none; height: 137.0px; color: #000000; background: #ffffff; font-family: Arial; direction: ltr\">\n<text class=\"displacy-token\" fill=\"currentColor\" text-anchor=\"middle\" y=\"47.0\">\n    <tspan class=\"displacy-word\" fill=\"currentColor\" x=\"50\">😊</tspan>\n    <tspan class=\"displacy-tag\" dy=\"2em\" fill=\"currentColor\" x=\"50\">PROPN</tspan>\n</text>\n</svg>\n\n<svg xmlns=\"http://www.w3.org/2000/svg\" xmlns:xlink=\"http://www.w3.org/1999/xlink\" xml:lang=\"en\" id=\"53e038d7a70e45539dacf71ce6b86cb8-4\" class=\"displacy\" width=\"2325\" height=\"487.0\" direction=\"ltr\" style=\"max-width: none; height: 487.0px; color: #000000; background: #ffffff; font-family: Arial; direction: ltr\">\n<text class=\"displacy-token\" fill=\"currentColor\" text-anchor=\"middle\" y=\"397.0\">\n    <tspan class=\"displacy-word\" fill=\"currentColor\" x=\"50\">You</tspan>\n    <tspan class=\"displacy-tag\" dy=\"2em\" fill=\"currentColor\" x=\"50\">PRON</tspan>\n</text>\n\n<text class=\"displacy-token\" fill=\"currentColor\" text-anchor=\"middle\" y=\"397.0\">\n    <tspan class=\"displacy-word\" fill=\"currentColor\" x=\"225\">can</tspan>\n    <tspan class=\"displacy-tag\" dy=\"2em\" fill=\"currentColor\" x=\"225\">VERB</tspan>\n</text>\n\n<text class=\"displacy-token\" fill=\"currentColor\" text-anchor=\"middle\" y=\"397.0\">\n    <tspan class=\"displacy-word\" fill=\"currentColor\" x=\"400\">buy</tspan>\n    <tspan class=\"displacy-tag\" dy=\"2em\" fill=\"currentColor\" x=\"400\">VERB</tspan>\n</text>\n\n<text class=\"displacy-token\" fill=\"currentColor\" text-anchor=\"middle\" y=\"397.0\">\n    <tspan class=\"displacy-word\" fill=\"currentColor\" x=\"575\">3</tspan>\n    <tspan class=\"displacy-tag\" dy=\"2em\" fill=\"currentColor\" x=\"575\">NUM</tspan>\n</text>\n\n<text class=\"displacy-token\" fill=\"currentColor\" text-anchor=\"middle\" y=\"397.0\">\n    <tspan class=\"displacy-word\" fill=\"currentColor\" x=\"750\">tacos</tspan>\n    <tspan class=\"displacy-tag\" dy=\"2em\" fill=\"currentColor\" x=\"750\">NOUN</tspan>\n</text>\n\n<text class=\"displacy-token\" fill=\"currentColor\" text-anchor=\"middle\" y=\"397.0\">\n    <tspan class=\"displacy-word\" fill=\"currentColor\" x=\"925\">for</tspan>\n    <tspan class=\"displacy-tag\" dy=\"2em\" fill=\"currentColor\" x=\"925\">ADP</tspan>\n</text>\n\n<text class=\"displacy-token\" fill=\"currentColor\" text-anchor=\"middle\" y=\"397.0\">\n    <tspan class=\"displacy-word\" fill=\"currentColor\" x=\"1100\">$</tspan>\n    <tspan class=\"displacy-tag\" dy=\"2em\" fill=\"currentColor\" x=\"1100\">SYM</tspan>\n</text>\n\n<text class=\"displacy-token\" fill=\"currentColor\" text-anchor=\"middle\" y=\"397.0\">\n    <tspan class=\"displacy-word\" fill=\"currentColor\" x=\"1275\">2</tspan>\n    <tspan class=\"displacy-tag\" dy=\"2em\" fill=\"currentColor\" x=\"1275\">NUM</tspan>\n</text>\n\n<text class=\"displacy-token\" fill=\"currentColor\" text-anchor=\"middle\" y=\"397.0\">\n    <tspan class=\"displacy-word\" fill=\"currentColor\" x=\"1450\">as</tspan>\n    <tspan class=\"displacy-tag\" dy=\"2em\" fill=\"currentColor\" x=\"1450\">SCONJ</tspan>\n</text>\n\n<text class=\"displacy-token\" fill=\"currentColor\" text-anchor=\"middle\" y=\"397.0\">\n    <tspan class=\"displacy-word\" fill=\"currentColor\" x=\"1625\">of</tspan>\n    <tspan class=\"displacy-tag\" dy=\"2em\" fill=\"currentColor\" x=\"1625\">ADP</tspan>\n</text>\n\n<text class=\"displacy-token\" fill=\"currentColor\" text-anchor=\"middle\" y=\"397.0\">\n    <tspan class=\"displacy-word\" fill=\"currentColor\" x=\"1800\">December</tspan>\n    <tspan class=\"displacy-tag\" dy=\"2em\" fill=\"currentColor\" x=\"1800\">PROPN</tspan>\n</text>\n\n<text class=\"displacy-token\" fill=\"currentColor\" text-anchor=\"middle\" y=\"397.0\">\n    <tspan class=\"displacy-word\" fill=\"currentColor\" x=\"1975\">13th,</tspan>\n    <tspan class=\"displacy-tag\" dy=\"2em\" fill=\"currentColor\" x=\"1975\">NOUN</tspan>\n</text>\n\n<text class=\"displacy-token\" fill=\"currentColor\" text-anchor=\"middle\" y=\"397.0\">\n    <tspan class=\"displacy-word\" fill=\"currentColor\" x=\"2150\">2019.</tspan>\n    <tspan class=\"displacy-tag\" dy=\"2em\" fill=\"currentColor\" x=\"2150\">NUM</tspan>\n</text>\n\n<g class=\"displacy-arrow\">\n    <path class=\"displacy-arc\" id=\"arrow-53e038d7a70e45539dacf71ce6b86cb8-4-0\" stroke-width=\"2px\" d=\"M70,352.0 C70,177.0 390.0,177.0 390.0,352.0\" fill=\"none\" stroke=\"currentColor\"/>\n    <text dy=\"1.25em\" style=\"font-size: 0.8em; letter-spacing: 1px\">\n        <textPath xlink:href=\"#arrow-53e038d7a70e45539dacf71ce6b86cb8-4-0\" class=\"displacy-label\" startOffset=\"50%\" side=\"left\" fill=\"currentColor\" text-anchor=\"middle\">nsubj</textPath>\n    </text>\n    <path class=\"displacy-arrowhead\" d=\"M70,354.0 L62,342.0 78,342.0\" fill=\"currentColor\"/>\n</g>\n\n<g class=\"displacy-arrow\">\n    <path class=\"displacy-arc\" id=\"arrow-53e038d7a70e45539dacf71ce6b86cb8-4-1\" stroke-width=\"2px\" d=\"M245,352.0 C245,264.5 385.0,264.5 385.0,352.0\" fill=\"none\" stroke=\"currentColor\"/>\n    <text dy=\"1.25em\" style=\"font-size: 0.8em; letter-spacing: 1px\">\n        <textPath xlink:href=\"#arrow-53e038d7a70e45539dacf71ce6b86cb8-4-1\" class=\"displacy-label\" startOffset=\"50%\" side=\"left\" fill=\"currentColor\" text-anchor=\"middle\">aux</textPath>\n    </text>\n    <path class=\"displacy-arrowhead\" d=\"M245,354.0 L237,342.0 253,342.0\" fill=\"currentColor\"/>\n</g>\n\n<g class=\"displacy-arrow\">\n    <path class=\"displacy-arc\" id=\"arrow-53e038d7a70e45539dacf71ce6b86cb8-4-2\" stroke-width=\"2px\" d=\"M595,352.0 C595,264.5 735.0,264.5 735.0,352.0\" fill=\"none\" stroke=\"currentColor\"/>\n    <text dy=\"1.25em\" style=\"font-size: 0.8em; letter-spacing: 1px\">\n        <textPath xlink:href=\"#arrow-53e038d7a70e45539dacf71ce6b86cb8-4-2\" class=\"displacy-label\" startOffset=\"50%\" side=\"left\" fill=\"currentColor\" text-anchor=\"middle\">nummod</textPath>\n    </text>\n    <path class=\"displacy-arrowhead\" d=\"M595,354.0 L587,342.0 603,342.0\" fill=\"currentColor\"/>\n</g>\n\n<g class=\"displacy-arrow\">\n    <path class=\"displacy-arc\" id=\"arrow-53e038d7a70e45539dacf71ce6b86cb8-4-3\" stroke-width=\"2px\" d=\"M420,352.0 C420,177.0 740.0,177.0 740.0,352.0\" fill=\"none\" stroke=\"currentColor\"/>\n    <text dy=\"1.25em\" style=\"font-size: 0.8em; letter-spacing: 1px\">\n        <textPath xlink:href=\"#arrow-53e038d7a70e45539dacf71ce6b86cb8-4-3\" class=\"displacy-label\" startOffset=\"50%\" side=\"left\" fill=\"currentColor\" text-anchor=\"middle\">dobj</textPath>\n    </text>\n    <path class=\"displacy-arrowhead\" d=\"M740.0,354.0 L748.0,342.0 732.0,342.0\" fill=\"currentColor\"/>\n</g>\n\n<g class=\"displacy-arrow\">\n    <path class=\"displacy-arc\" id=\"arrow-53e038d7a70e45539dacf71ce6b86cb8-4-4\" stroke-width=\"2px\" d=\"M420,352.0 C420,89.5 920.0,89.5 920.0,352.0\" fill=\"none\" stroke=\"currentColor\"/>\n    <text dy=\"1.25em\" style=\"font-size: 0.8em; letter-spacing: 1px\">\n        <textPath xlink:href=\"#arrow-53e038d7a70e45539dacf71ce6b86cb8-4-4\" class=\"displacy-label\" startOffset=\"50%\" side=\"left\" fill=\"currentColor\" text-anchor=\"middle\">prep</textPath>\n    </text>\n    <path class=\"displacy-arrowhead\" d=\"M920.0,354.0 L928.0,342.0 912.0,342.0\" fill=\"currentColor\"/>\n</g>\n\n<g class=\"displacy-arrow\">\n    <path class=\"displacy-arc\" id=\"arrow-53e038d7a70e45539dacf71ce6b86cb8-4-5\" stroke-width=\"2px\" d=\"M1120,352.0 C1120,264.5 1260.0,264.5 1260.0,352.0\" fill=\"none\" stroke=\"currentColor\"/>\n    <text dy=\"1.25em\" style=\"font-size: 0.8em; letter-spacing: 1px\">\n        <textPath xlink:href=\"#arrow-53e038d7a70e45539dacf71ce6b86cb8-4-5\" class=\"displacy-label\" startOffset=\"50%\" side=\"left\" fill=\"currentColor\" text-anchor=\"middle\">nmod</textPath>\n    </text>\n    <path class=\"displacy-arrowhead\" d=\"M1120,354.0 L1112,342.0 1128,342.0\" fill=\"currentColor\"/>\n</g>\n\n<g class=\"displacy-arrow\">\n    <path class=\"displacy-arc\" id=\"arrow-53e038d7a70e45539dacf71ce6b86cb8-4-6\" stroke-width=\"2px\" d=\"M945,352.0 C945,177.0 1265.0,177.0 1265.0,352.0\" fill=\"none\" stroke=\"currentColor\"/>\n    <text dy=\"1.25em\" style=\"font-size: 0.8em; letter-spacing: 1px\">\n        <textPath xlink:href=\"#arrow-53e038d7a70e45539dacf71ce6b86cb8-4-6\" class=\"displacy-label\" startOffset=\"50%\" side=\"left\" fill=\"currentColor\" text-anchor=\"middle\">pobj</textPath>\n    </text>\n    <path class=\"displacy-arrowhead\" d=\"M1265.0,354.0 L1273.0,342.0 1257.0,342.0\" fill=\"currentColor\"/>\n</g>\n\n<g class=\"displacy-arrow\">\n    <path class=\"displacy-arc\" id=\"arrow-53e038d7a70e45539dacf71ce6b86cb8-4-7\" stroke-width=\"2px\" d=\"M420,352.0 C420,2.0 1450.0,2.0 1450.0,352.0\" fill=\"none\" stroke=\"currentColor\"/>\n    <text dy=\"1.25em\" style=\"font-size: 0.8em; letter-spacing: 1px\">\n        <textPath xlink:href=\"#arrow-53e038d7a70e45539dacf71ce6b86cb8-4-7\" class=\"displacy-label\" startOffset=\"50%\" side=\"left\" fill=\"currentColor\" text-anchor=\"middle\">prep</textPath>\n    </text>\n    <path class=\"displacy-arrowhead\" d=\"M1450.0,354.0 L1458.0,342.0 1442.0,342.0\" fill=\"currentColor\"/>\n</g>\n\n<g class=\"displacy-arrow\">\n    <path class=\"displacy-arc\" id=\"arrow-53e038d7a70e45539dacf71ce6b86cb8-4-8\" stroke-width=\"2px\" d=\"M1470,352.0 C1470,264.5 1610.0,264.5 1610.0,352.0\" fill=\"none\" stroke=\"currentColor\"/>\n    <text dy=\"1.25em\" style=\"font-size: 0.8em; letter-spacing: 1px\">\n        <textPath xlink:href=\"#arrow-53e038d7a70e45539dacf71ce6b86cb8-4-8\" class=\"displacy-label\" startOffset=\"50%\" side=\"left\" fill=\"currentColor\" text-anchor=\"middle\">prep</textPath>\n    </text>\n    <path class=\"displacy-arrowhead\" d=\"M1610.0,354.0 L1618.0,342.0 1602.0,342.0\" fill=\"currentColor\"/>\n</g>\n\n<g class=\"displacy-arrow\">\n    <path class=\"displacy-arc\" id=\"arrow-53e038d7a70e45539dacf71ce6b86cb8-4-9\" stroke-width=\"2px\" d=\"M1820,352.0 C1820,264.5 1960.0,264.5 1960.0,352.0\" fill=\"none\" stroke=\"currentColor\"/>\n    <text dy=\"1.25em\" style=\"font-size: 0.8em; letter-spacing: 1px\">\n        <textPath xlink:href=\"#arrow-53e038d7a70e45539dacf71ce6b86cb8-4-9\" class=\"displacy-label\" startOffset=\"50%\" side=\"left\" fill=\"currentColor\" text-anchor=\"middle\">compound</textPath>\n    </text>\n    <path class=\"displacy-arrowhead\" d=\"M1820,354.0 L1812,342.0 1828,342.0\" fill=\"currentColor\"/>\n</g>\n\n<g class=\"displacy-arrow\">\n    <path class=\"displacy-arc\" id=\"arrow-53e038d7a70e45539dacf71ce6b86cb8-4-10\" stroke-width=\"2px\" d=\"M1645,352.0 C1645,177.0 1965.0,177.0 1965.0,352.0\" fill=\"none\" stroke=\"currentColor\"/>\n    <text dy=\"1.25em\" style=\"font-size: 0.8em; letter-spacing: 1px\">\n        <textPath xlink:href=\"#arrow-53e038d7a70e45539dacf71ce6b86cb8-4-10\" class=\"displacy-label\" startOffset=\"50%\" side=\"left\" fill=\"currentColor\" text-anchor=\"middle\">pobj</textPath>\n    </text>\n    <path class=\"displacy-arrowhead\" d=\"M1965.0,354.0 L1973.0,342.0 1957.0,342.0\" fill=\"currentColor\"/>\n</g>\n\n<g class=\"displacy-arrow\">\n    <path class=\"displacy-arc\" id=\"arrow-53e038d7a70e45539dacf71ce6b86cb8-4-11\" stroke-width=\"2px\" d=\"M1995,352.0 C1995,264.5 2135.0,264.5 2135.0,352.0\" fill=\"none\" stroke=\"currentColor\"/>\n    <text dy=\"1.25em\" style=\"font-size: 0.8em; letter-spacing: 1px\">\n        <textPath xlink:href=\"#arrow-53e038d7a70e45539dacf71ce6b86cb8-4-11\" class=\"displacy-label\" startOffset=\"50%\" side=\"left\" fill=\"currentColor\" text-anchor=\"middle\">npadvmod</textPath>\n    </text>\n    <path class=\"displacy-arrowhead\" d=\"M2135.0,354.0 L2143.0,342.0 2127.0,342.0\" fill=\"currentColor\"/>\n</g>\n</svg>\n\n<svg xmlns=\"http://www.w3.org/2000/svg\" xmlns:xlink=\"http://www.w3.org/1999/xlink\" xml:lang=\"en\" id=\"53e038d7a70e45539dacf71ce6b86cb8-5\" class=\"displacy\" width=\"225\" height=\"137.0\" direction=\"ltr\" style=\"max-width: none; height: 137.0px; color: #000000; background: #ffffff; font-family: Arial; direction: ltr\">\n<text class=\"displacy-token\" fill=\"currentColor\" text-anchor=\"middle\" y=\"47.0\">\n    <tspan class=\"displacy-word\" fill=\"currentColor\" x=\"50\">lol</tspan>\n    <tspan class=\"displacy-tag\" dy=\"2em\" fill=\"currentColor\" x=\"50\">PROPN</tspan>\n</text>\n</svg></span>"
     },
     "metadata": {}
    }
   ],
   "source": [
    "# Visualize syntactic dependency\n",
    "# Split into sentences\n",
    "sentence_spans = list(doc.sents)\n",
    "spacy.displacy.render(sentence_spans, style=\"dep\")"
   ]
  },
  {
   "cell_type": "markdown",
   "metadata": {},
   "source": [
    "## Word Vectors  \n",
    "SpaCy models come with word vectors that are trained in GloVe, a similar algorithm to Word2Vec. SpaCy allows to use other pretrained word vectors or your custom word vectors, such as ones that are trained in Gensim, FastText, TensorFlow, etc.  \n",
    "\n",
    "Examples below show how to compute similarity between words/sentences, but you can also feed the vector representation as a feature to downstream tasks, such as text classifier in your favorite ML framework."
   ]
  },
  {
   "cell_type": "code",
   "execution_count": 27,
   "metadata": {
    "tags": []
   },
   "outputs": [
    {
     "output_type": "stream",
     "name": "stdout",
     "text": "[-0.15067   -0.024468  -0.23368   -0.23378   -0.18382    0.32711\n -0.22084   -0.28777    0.12759    1.1656    -0.64163   -0.098455\n -0.62397    0.010431  -0.25653    0.31799    0.037779   1.1904\n -0.17714   -0.2595    -0.31461    0.038825  -0.15713   -0.13484\n  0.36936   -0.30562   -0.40619   -0.38965    0.3686     0.013963\n -0.6895     0.004066  -0.1367     0.32564    0.24688   -0.14011\n  0.53889   -0.80441   -0.1777    -0.12922    0.16303    0.14917\n -0.068429  -0.33922    0.18495   -0.082544  -0.46892    0.39581\n -0.13742   -0.35132    0.22223   -0.144     -0.048287   0.3379\n -0.31916    0.20526    0.098624  -0.23877    0.045338   0.43941\n  0.030385  -0.013821  -0.093273  -0.18178    0.19438   -0.3782\n  0.70144    0.16236    0.0059111  0.024898  -0.13613   -0.11425\n -0.31598   -0.14209    0.028194   0.5419    -0.42413   -0.599\n  0.24976   -0.27003    0.14964    0.29287   -0.31281    0.16543\n -0.21045   -0.4408     1.2174     0.51236    0.56209    0.14131\n  0.092514   0.71396   -0.021051  -0.33704   -0.20275   -0.36181\n  0.22055   -0.25665    0.28425   -0.16968    0.058029   0.61182\n  0.31576   -0.079185   0.35538   -0.51236    0.4235    -0.30033\n -0.22376    0.15223   -0.048292   0.23532    0.46507   -0.67579\n -0.32905    0.08446   -0.22123   -0.045333   0.34463   -0.1455\n -0.18047   -0.17887    0.96879   -1.0028    -0.47343    0.28542\n  0.56382   -0.33211   -0.38275   -0.2749    -0.22955   -0.24265\n -0.37689    0.24822    0.36941    0.14651   -0.37864    0.31134\n -0.28449    0.36948   -2.8174    -0.38319   -0.022373   0.56376\n  0.40131   -0.42131   -0.11311   -0.17317    0.1411    -0.13194\n  0.18494    0.097692  -0.097341  -0.23987    0.16631   -0.28556\n  0.0038654  0.53292   -0.32367   -0.38744    0.27011   -0.34181\n -0.27702   -0.67279   -0.10771   -0.062189  -0.24783   -0.070884\n -0.20898    0.062404   0.022372   0.13408    0.1305    -0.19546\n -0.46849    0.77731   -0.043978   0.3827    -0.23376    1.0457\n -0.14371   -0.3565    -0.080713  -0.31047   -0.57822   -0.28067\n -0.069678   0.068929  -0.16227   -0.63934   -0.62149    0.11222\n -0.16969   -0.54637    0.49661    0.46565    0.088294  -0.48496\n  0.69263   -0.068977  -0.53709    0.20802   -0.42987   -0.11921\n  0.1174    -0.18443    0.43797   -0.1236     0.3607    -0.19608\n -0.35366    0.18808   -0.5061     0.14455   -0.024368  -0.10772\n -0.0115     0.58634   -0.054461   0.0076487 -0.056297   0.27193\n  0.23096   -0.29296   -0.24325    0.10317   -0.10014    0.7089\n  0.17402   -0.0037509 -0.46304    0.11806   -0.16457   -0.38609\n  0.14524    0.098122  -0.12352   -0.1047     0.39047   -0.3063\n -0.65375   -0.0044248 -0.033876   0.037114  -0.27472    0.0053147\n  0.30737    0.12528   -0.19527   -0.16461    0.087518  -0.051107\n -0.16323    0.521      0.10822   -0.060379  -0.71735   -0.064327\n  0.37043   -0.41054   -0.2728    -0.30217    0.015771  -0.43056\n  0.35647    0.17188   -0.54598   -0.21541   -0.044889  -0.10597\n -0.54391    0.53908    0.070938   0.097839   0.097908   0.17805\n  0.18995    0.49962   -0.18529    0.051234   0.019574   0.24805\n  0.3144    -0.29304    0.54235    0.46672    0.26017   -0.44705\n  0.28287   -0.033345  -0.33181   -0.10902   -0.023324   0.2106\n -0.29633    0.81506    0.038524   0.46004    0.17187   -0.29804  ] Dimension: 300\n"
    }
   ],
   "source": [
    "# Printing a word vector for \"cat\" and its demension size\n",
    "nlp = spacy.load(\"en_core_web_lg\")\n",
    "word1 = nlp(\"cat\")\n",
    "print(f\"{word1.vector} Dimension: {len(word1.vector)}\")"
   ]
  },
  {
   "cell_type": "code",
   "execution_count": 28,
   "metadata": {
    "tags": []
   },
   "outputs": [
    {
     "output_type": "stream",
     "name": "stdout",
     "text": "0.8016854705531046\n"
    }
   ],
   "source": [
    "# Cosine similarity of cat and dog\n",
    "word2 = nlp(\"dog\")\n",
    "print(word1.similarity(word2))"
   ]
  },
  {
   "cell_type": "code",
   "execution_count": 29,
   "metadata": {
    "tags": []
   },
   "outputs": [
    {
     "output_type": "stream",
     "name": "stdout",
     "text": "0.7740199549421769\n"
    }
   ],
   "source": [
    "# Cosine similarity of 2 different documents by averaging word vectors\n",
    "doc1 = nlp(\"I like sushi.\")\n",
    "doc2 = nlp(\"My favorite food is spacy food.\")\n",
    "print(doc1.similarity(doc2))"
   ]
  },
  {
   "cell_type": "code",
   "execution_count": 31,
   "metadata": {
    "tags": []
   },
   "outputs": [
    {
     "output_type": "stream",
     "name": "stdout",
     "text": "0.31461387624735404\n"
    }
   ],
   "source": [
    "# An unrelated sentence pair returns low value\n",
    "doc1 = nlp(\"I like sushi.\")\n",
    "doc2 = nlp(\"Jupyter notebook installation guide\")\n",
    "print(doc1.similarity(doc2))"
   ]
  },
  {
   "cell_type": "markdown",
   "metadata": {},
   "source": [
    "## Working with Big Dataset  \n",
    "This Twitter data was downloaded from [Kaggle](https://www.kaggle.com/c/twitter-sentiment-analysis2)."
   ]
  },
  {
   "cell_type": "code",
   "execution_count": 34,
   "metadata": {},
   "outputs": [
    {
     "output_type": "execute_result",
     "data": {
      "text/plain": "(1000, 3)"
     },
     "metadata": {},
     "execution_count": 34
    }
   ],
   "source": [
    "import pandas as pd\n",
    "df = pd.read_csv('data/train.csv.zip', sep=',', compression='zip', encoding='latin_1')\n",
    "df = df.sample(1000, random_state=1111)\n",
    "df.shape"
   ]
  },
  {
   "cell_type": "code",
   "execution_count": 35,
   "metadata": {},
   "outputs": [
    {
     "output_type": "execute_result",
     "data": {
      "text/plain": "       ItemID  Sentiment                                      SentimentText\n1266     1267          1                        Awesome. &lt;3 TEDDY! &lt;3\n39898   39910          1  @Andre_R its been my mission to find other sou...\n88879   88891          1                                @Azura999 Told you \n3688     3689          1                        thanks for the birthday DMs\n68437   68449          0    @bryandl i know!  you should come visit again!!\n28556   28568          0       @airlanggatwerp bagi link nya dong nce huhu \n48974   48986          1  @AriaParadiso @ChelseaParadiso nighty night u ...\n68698   68710          0                     @BSBSavedMyLife it won't play \n90592   90604          0  @chiniehdiaz Im out of it..havent had any in d...\n55359   55371          1  @barrymoltz Ahhh, yes-- shiny object syndrome....",
      "text/html": "<div>\n<style scoped>\n    .dataframe tbody tr th:only-of-type {\n        vertical-align: middle;\n    }\n\n    .dataframe tbody tr th {\n        vertical-align: top;\n    }\n\n    .dataframe thead th {\n        text-align: right;\n    }\n</style>\n<table border=\"1\" class=\"dataframe\">\n  <thead>\n    <tr style=\"text-align: right;\">\n      <th></th>\n      <th>ItemID</th>\n      <th>Sentiment</th>\n      <th>SentimentText</th>\n    </tr>\n  </thead>\n  <tbody>\n    <tr>\n      <th>1266</th>\n      <td>1267</td>\n      <td>1</td>\n      <td>Awesome. &amp;lt;3 TEDDY! &amp;lt;3</td>\n    </tr>\n    <tr>\n      <th>39898</th>\n      <td>39910</td>\n      <td>1</td>\n      <td>@Andre_R its been my mission to find other sou...</td>\n    </tr>\n    <tr>\n      <th>88879</th>\n      <td>88891</td>\n      <td>1</td>\n      <td>@Azura999 Told you</td>\n    </tr>\n    <tr>\n      <th>3688</th>\n      <td>3689</td>\n      <td>1</td>\n      <td>thanks for the birthday DMs</td>\n    </tr>\n    <tr>\n      <th>68437</th>\n      <td>68449</td>\n      <td>0</td>\n      <td>@bryandl i know!  you should come visit again!!</td>\n    </tr>\n    <tr>\n      <th>28556</th>\n      <td>28568</td>\n      <td>0</td>\n      <td>@airlanggatwerp bagi link nya dong nce huhu</td>\n    </tr>\n    <tr>\n      <th>48974</th>\n      <td>48986</td>\n      <td>1</td>\n      <td>@AriaParadiso @ChelseaParadiso nighty night u ...</td>\n    </tr>\n    <tr>\n      <th>68698</th>\n      <td>68710</td>\n      <td>0</td>\n      <td>@BSBSavedMyLife it won't play</td>\n    </tr>\n    <tr>\n      <th>90592</th>\n      <td>90604</td>\n      <td>0</td>\n      <td>@chiniehdiaz Im out of it..havent had any in d...</td>\n    </tr>\n    <tr>\n      <th>55359</th>\n      <td>55371</td>\n      <td>1</td>\n      <td>@barrymoltz Ahhh, yes-- shiny object syndrome....</td>\n    </tr>\n  </tbody>\n</table>\n</div>"
     },
     "metadata": {},
     "execution_count": 35
    }
   ],
   "source": [
    "df.head(10)"
   ]
  },
  {
   "cell_type": "markdown",
   "metadata": {},
   "source": [
    "### Typical way (slow)\n",
    "Single-threaded"
   ]
  },
  {
   "cell_type": "code",
   "execution_count": 37,
   "metadata": {},
   "outputs": [],
   "source": [
    "def tokenize(text:str=None):\n",
    "    doc = nlp(text)\n",
    "    token_list = []\n",
    "    \n",
    "    for token in doc:\n",
    "        token_list.append(token.text)\n",
    "        \n",
    "    return token_list"
   ]
  },
  {
   "cell_type": "code",
   "execution_count": 38,
   "metadata": {
    "tags": []
   },
   "outputs": [
    {
     "output_type": "stream",
     "name": "stdout",
     "text": "16.4 s ± 3.38 s per loop (mean ± std. dev. of 7 runs, 1 loop each)\n"
    }
   ],
   "source": [
    "%%timeit\n",
    "df['token_list1'] = df.apply(lambda x: tokenize(x.SentimentText), axis=1)"
   ]
  },
  {
   "cell_type": "markdown",
   "metadata": {},
   "source": [
    "### SpaCy way (fast)  \n",
    "SpaCy allows multi-processing by treating texts as a stream and yielding Doc objects."
   ]
  },
  {
   "cell_type": "code",
   "execution_count": 41,
   "metadata": {
    "tags": []
   },
   "outputs": [
    {
     "output_type": "stream",
     "name": "stdout",
     "text": "3.34 s ± 31.6 ms per loop (mean ± std. dev. of 7 runs, 1 loop each)\n"
    }
   ],
   "source": [
    "%%timeit\n",
    "token_list = []\n",
    "\n",
    "for doc in nlp.pipe(df.SentimentText.astype('unicode').values, batch_size=100, n_threads=40):\n",
    "    word_list = []\n",
    "    for token in doc:\n",
    "        word_list.append(token.text)\n",
    "        \n",
    "    token_list.append(word_list)\n",
    "\n",
    "df['token_list2'] = token_list"
   ]
  },
  {
   "cell_type": "markdown",
   "metadata": {},
   "source": [
    "### SpaCy way (faster)  \n",
    "When an `nlp` object is created, spaCy adds pipelines. By disabling unused pipeline components, spaCy can become even faster! Pipelines can be customized.    \n",
    "\n",
    "![nlp_pipeline](img/nlp_pipeline.png)  "
   ]
  },
  {
   "cell_type": "code",
   "execution_count": 44,
   "metadata": {
    "tags": []
   },
   "outputs": [
    {
     "output_type": "stream",
     "name": "stdout",
     "text": "('tagger', <spacy.pipeline.pipes.Tagger object at 0x00000188297E7808>)\n('parser', <spacy.pipeline.pipes.DependencyParser object at 0x000001880CAC4D08>)\n('ner', <spacy.pipeline.pipes.EntityRecognizer object at 0x000001881E39A8E8>)\n"
    }
   ],
   "source": [
    "# Print pipeline components\n",
    "for p in nlp.pipeline:\n",
    "    print(p)"
   ]
  },
  {
   "cell_type": "code",
   "execution_count": 45,
   "metadata": {
    "tags": []
   },
   "outputs": [
    {
     "output_type": "stream",
     "name": "stdout",
     "text": "61.7 ms ± 5.14 ms per loop (mean ± std. dev. of 7 runs, 10 loops each)\n"
    }
   ],
   "source": [
    "%%timeit\n",
    "token_list = []\n",
    "\n",
    "# Disable POS, Dependency Parser, and NER since all we want is tokenizer \n",
    "# Alternatively, you can use nlp.make_doc method, which skips all pipelines, if you just need a tokenizer.\n",
    "with nlp.disable_pipes('tagger', 'parser', 'ner'):\n",
    "    for doc in nlp.pipe(df.SentimentText.astype('unicode').values, batch_size=100, n_threads=40):\n",
    "        word_list = []\n",
    "        for token in doc:\n",
    "            word_list.append(token.text)\n",
    "\n",
    "        token_list.append(word_list)\n",
    "\n",
    "df['token_list3'] = token_list"
   ]
  },
  {
   "cell_type": "code",
   "execution_count": null,
   "metadata": {},
   "outputs": [],
   "source": []
  }
 ],
 "metadata": {
  "kernelspec": {
   "display_name": "Python 3",
   "language": "python",
   "name": "python3"
  },
  "language_info": {
   "codemirror_mode": {
    "name": "ipython",
    "version": 3
   },
   "file_extension": ".py",
   "mimetype": "text/x-python",
   "name": "python",
   "nbconvert_exporter": "python",
   "pygments_lexer": "ipython3",
   "version": "3.7.6-final"
  }
 },
 "nbformat": 4,
 "nbformat_minor": 4
}